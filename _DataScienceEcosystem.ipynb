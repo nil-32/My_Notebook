{
 "cells": [
  {
   "cell_type": "markdown",
   "id": "86da818e",
   "metadata": {},
   "source": [
    "# Data Science Tools and Ecosystem"
   ]
  },
  {
   "cell_type": "markdown",
   "id": "f51430dc",
   "metadata": {},
   "source": [
    "In this notebook, Data Science Tools and Ecosystem are summarized."
   ]
  },
  {
   "cell_type": "markdown",
   "id": "c6573a0f",
   "metadata": {},
   "source": [
    "Some of the popular languages that Data Scientists use are:\n",
    "1. Phyton\n",
    "2. R\n",
    "3. SQL"
   ]
  },
  {
   "cell_type": "markdown",
   "id": "b1f8a3c5",
   "metadata": {},
   "source": [
    "Some of the commonly used libraries used by Data Scientists include:\n",
    "1. TensorFlow\n",
    "2. NumPy\n",
    "3. SciPy\n",
    "4. Pandas"
   ]
  },
  {
   "cell_type": "markdown",
   "id": "460c91f5",
   "metadata": {},
   "source": [
    "|Data Science Tools|\n",
    "|---|\n",
    "|jupyter|\n",
    "|RStudio|\n",
    "|Github|"
   ]
  },
  {
   "cell_type": "markdown",
   "id": "4c60d134",
   "metadata": {},
   "source": [
    "### Below are a few examples of evaluating arithmetic expressions in Python"
   ]
  },
  {
   "cell_type": "code",
   "execution_count": 1,
   "id": "8d5c537d",
   "metadata": {},
   "outputs": [
    {
     "data": {
      "text/plain": [
       "17"
      ]
     },
     "execution_count": 1,
     "metadata": {},
     "output_type": "execute_result"
    }
   ],
   "source": [
    "#This a simple arithmetic expression to mutiply then add integers\n",
    "(3*4)+5"
   ]
  },
  {
   "cell_type": "code",
   "execution_count": 2,
   "id": "ba511720",
   "metadata": {},
   "outputs": [
    {
     "data": {
      "text/plain": [
       "33.333333333333336"
      ]
     },
     "execution_count": 2,
     "metadata": {},
     "output_type": "execute_result"
    }
   ],
   "source": [
    "#This will convert 200 minutes to hours by diving by 60\n",
    "minutes = 200\n",
    "hours = 200/6\n",
    "hours"
   ]
  },
  {
   "cell_type": "markdown",
   "id": "212d88c4",
   "metadata": {},
   "source": [
    "__Objectives:__\n",
    "\n",
    "+ Some popular languages\n",
    "+ Some popular libraries\n",
    "+ Some data science tools\n",
    "+ Phyton arithmetic expression examples"
   ]
  },
  {
   "cell_type": "markdown",
   "id": "1fc1ed16",
   "metadata": {},
   "source": [
    "## Author\n",
    "Nil Akyıldız"
   ]
  },
  {
   "cell_type": "code",
   "execution_count": null,
   "id": "9dca744e",
   "metadata": {},
   "outputs": [],
   "source": []
  }
 ],
 "metadata": {
  "kernelspec": {
   "display_name": "Python 3 (ipykernel)",
   "language": "python",
   "name": "python3"
  },
  "language_info": {
   "codemirror_mode": {
    "name": "ipython",
    "version": 3
   },
   "file_extension": ".py",
   "mimetype": "text/x-python",
   "name": "python",
   "nbconvert_exporter": "python",
   "pygments_lexer": "ipython3",
   "version": "3.11.5"
  }
 },
 "nbformat": 4,
 "nbformat_minor": 5
}
